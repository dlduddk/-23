{
  "nbformat": 4,
  "nbformat_minor": 0,
  "metadata": {
    "colab": {
      "provenance": []
    },
    "kernelspec": {
      "name": "python3",
      "display_name": "Python 3"
    },
    "language_info": {
      "name": "python"
    }
  },
  "cells": [
    {
      "cell_type": "code",
      "execution_count": null,
      "metadata": {
        "id": "aIc8rz7K7JD1"
      },
      "outputs": [],
      "source": [
        "import pandas as pd\n",
        "import numpy as np\n",
        "import matplotlib.pyplot as plt\n",
        "\n",
        "\n",
        "np.random.seed(2023)"
      ]
    },
    {
      "cell_type": "markdown",
      "source": [
        "###데이터 로드(아이리스)"
      ],
      "metadata": {
        "id": "K6PfmULT9oo2"
      }
    },
    {
      "cell_type": "code",
      "source": [
        "#data load\n",
        "from sklearn.datasets import load_iris\n",
        "\n",
        "iris = load_iris()"
      ],
      "metadata": {
        "id": "yldMYuRI7Q-q"
      },
      "execution_count": null,
      "outputs": []
    },
    {
      "cell_type": "code",
      "source": [
        "df = pd.DataFrame(iris['data'], columns=iris['feature_names'])"
      ],
      "metadata": {
        "id": "MWHspG5Z7cBE"
      },
      "execution_count": null,
      "outputs": []
    },
    {
      "cell_type": "code",
      "source": [
        "df['target'] = iris['target']\n",
        "df"
      ],
      "metadata": {
        "colab": {
          "base_uri": "https://localhost:8080/",
          "height": 424
        },
        "id": "IlzSdLZdC3FL",
        "outputId": "7ca2c15e-f74a-4557-f2c0-76a1035bbeb5"
      },
      "execution_count": null,
      "outputs": [
        {
          "output_type": "execute_result",
          "data": {
            "text/plain": [
              "     sepal length (cm)  sepal width (cm)  petal length (cm)  petal width (cm)  \\\n",
              "0                  5.1               3.5                1.4               0.2   \n",
              "1                  4.9               3.0                1.4               0.2   \n",
              "2                  4.7               3.2                1.3               0.2   \n",
              "3                  4.6               3.1                1.5               0.2   \n",
              "4                  5.0               3.6                1.4               0.2   \n",
              "..                 ...               ...                ...               ...   \n",
              "145                6.7               3.0                5.2               2.3   \n",
              "146                6.3               2.5                5.0               1.9   \n",
              "147                6.5               3.0                5.2               2.0   \n",
              "148                6.2               3.4                5.4               2.3   \n",
              "149                5.9               3.0                5.1               1.8   \n",
              "\n",
              "     target  \n",
              "0         0  \n",
              "1         0  \n",
              "2         0  \n",
              "3         0  \n",
              "4         0  \n",
              "..      ...  \n",
              "145       2  \n",
              "146       2  \n",
              "147       2  \n",
              "148       2  \n",
              "149       2  \n",
              "\n",
              "[150 rows x 5 columns]"
            ],
            "text/html": [
              "\n",
              "  <div id=\"df-cc2872b1-d33b-44de-b482-4c920cb47226\">\n",
              "    <div class=\"colab-df-container\">\n",
              "      <div>\n",
              "<style scoped>\n",
              "    .dataframe tbody tr th:only-of-type {\n",
              "        vertical-align: middle;\n",
              "    }\n",
              "\n",
              "    .dataframe tbody tr th {\n",
              "        vertical-align: top;\n",
              "    }\n",
              "\n",
              "    .dataframe thead th {\n",
              "        text-align: right;\n",
              "    }\n",
              "</style>\n",
              "<table border=\"1\" class=\"dataframe\">\n",
              "  <thead>\n",
              "    <tr style=\"text-align: right;\">\n",
              "      <th></th>\n",
              "      <th>sepal length (cm)</th>\n",
              "      <th>sepal width (cm)</th>\n",
              "      <th>petal length (cm)</th>\n",
              "      <th>petal width (cm)</th>\n",
              "      <th>target</th>\n",
              "    </tr>\n",
              "  </thead>\n",
              "  <tbody>\n",
              "    <tr>\n",
              "      <th>0</th>\n",
              "      <td>5.1</td>\n",
              "      <td>3.5</td>\n",
              "      <td>1.4</td>\n",
              "      <td>0.2</td>\n",
              "      <td>0</td>\n",
              "    </tr>\n",
              "    <tr>\n",
              "      <th>1</th>\n",
              "      <td>4.9</td>\n",
              "      <td>3.0</td>\n",
              "      <td>1.4</td>\n",
              "      <td>0.2</td>\n",
              "      <td>0</td>\n",
              "    </tr>\n",
              "    <tr>\n",
              "      <th>2</th>\n",
              "      <td>4.7</td>\n",
              "      <td>3.2</td>\n",
              "      <td>1.3</td>\n",
              "      <td>0.2</td>\n",
              "      <td>0</td>\n",
              "    </tr>\n",
              "    <tr>\n",
              "      <th>3</th>\n",
              "      <td>4.6</td>\n",
              "      <td>3.1</td>\n",
              "      <td>1.5</td>\n",
              "      <td>0.2</td>\n",
              "      <td>0</td>\n",
              "    </tr>\n",
              "    <tr>\n",
              "      <th>4</th>\n",
              "      <td>5.0</td>\n",
              "      <td>3.6</td>\n",
              "      <td>1.4</td>\n",
              "      <td>0.2</td>\n",
              "      <td>0</td>\n",
              "    </tr>\n",
              "    <tr>\n",
              "      <th>...</th>\n",
              "      <td>...</td>\n",
              "      <td>...</td>\n",
              "      <td>...</td>\n",
              "      <td>...</td>\n",
              "      <td>...</td>\n",
              "    </tr>\n",
              "    <tr>\n",
              "      <th>145</th>\n",
              "      <td>6.7</td>\n",
              "      <td>3.0</td>\n",
              "      <td>5.2</td>\n",
              "      <td>2.3</td>\n",
              "      <td>2</td>\n",
              "    </tr>\n",
              "    <tr>\n",
              "      <th>146</th>\n",
              "      <td>6.3</td>\n",
              "      <td>2.5</td>\n",
              "      <td>5.0</td>\n",
              "      <td>1.9</td>\n",
              "      <td>2</td>\n",
              "    </tr>\n",
              "    <tr>\n",
              "      <th>147</th>\n",
              "      <td>6.5</td>\n",
              "      <td>3.0</td>\n",
              "      <td>5.2</td>\n",
              "      <td>2.0</td>\n",
              "      <td>2</td>\n",
              "    </tr>\n",
              "    <tr>\n",
              "      <th>148</th>\n",
              "      <td>6.2</td>\n",
              "      <td>3.4</td>\n",
              "      <td>5.4</td>\n",
              "      <td>2.3</td>\n",
              "      <td>2</td>\n",
              "    </tr>\n",
              "    <tr>\n",
              "      <th>149</th>\n",
              "      <td>5.9</td>\n",
              "      <td>3.0</td>\n",
              "      <td>5.1</td>\n",
              "      <td>1.8</td>\n",
              "      <td>2</td>\n",
              "    </tr>\n",
              "  </tbody>\n",
              "</table>\n",
              "<p>150 rows × 5 columns</p>\n",
              "</div>\n",
              "      <button class=\"colab-df-convert\" onclick=\"convertToInteractive('df-cc2872b1-d33b-44de-b482-4c920cb47226')\"\n",
              "              title=\"Convert this dataframe to an interactive table.\"\n",
              "              style=\"display:none;\">\n",
              "        \n",
              "  <svg xmlns=\"http://www.w3.org/2000/svg\" height=\"24px\"viewBox=\"0 0 24 24\"\n",
              "       width=\"24px\">\n",
              "    <path d=\"M0 0h24v24H0V0z\" fill=\"none\"/>\n",
              "    <path d=\"M18.56 5.44l.94 2.06.94-2.06 2.06-.94-2.06-.94-.94-2.06-.94 2.06-2.06.94zm-11 1L8.5 8.5l.94-2.06 2.06-.94-2.06-.94L8.5 2.5l-.94 2.06-2.06.94zm10 10l.94 2.06.94-2.06 2.06-.94-2.06-.94-.94-2.06-.94 2.06-2.06.94z\"/><path d=\"M17.41 7.96l-1.37-1.37c-.4-.4-.92-.59-1.43-.59-.52 0-1.04.2-1.43.59L10.3 9.45l-7.72 7.72c-.78.78-.78 2.05 0 2.83L4 21.41c.39.39.9.59 1.41.59.51 0 1.02-.2 1.41-.59l7.78-7.78 2.81-2.81c.8-.78.8-2.07 0-2.86zM5.41 20L4 18.59l7.72-7.72 1.47 1.35L5.41 20z\"/>\n",
              "  </svg>\n",
              "      </button>\n",
              "      \n",
              "  <style>\n",
              "    .colab-df-container {\n",
              "      display:flex;\n",
              "      flex-wrap:wrap;\n",
              "      gap: 12px;\n",
              "    }\n",
              "\n",
              "    .colab-df-convert {\n",
              "      background-color: #E8F0FE;\n",
              "      border: none;\n",
              "      border-radius: 50%;\n",
              "      cursor: pointer;\n",
              "      display: none;\n",
              "      fill: #1967D2;\n",
              "      height: 32px;\n",
              "      padding: 0 0 0 0;\n",
              "      width: 32px;\n",
              "    }\n",
              "\n",
              "    .colab-df-convert:hover {\n",
              "      background-color: #E2EBFA;\n",
              "      box-shadow: 0px 1px 2px rgba(60, 64, 67, 0.3), 0px 1px 3px 1px rgba(60, 64, 67, 0.15);\n",
              "      fill: #174EA6;\n",
              "    }\n",
              "\n",
              "    [theme=dark] .colab-df-convert {\n",
              "      background-color: #3B4455;\n",
              "      fill: #D2E3FC;\n",
              "    }\n",
              "\n",
              "    [theme=dark] .colab-df-convert:hover {\n",
              "      background-color: #434B5C;\n",
              "      box-shadow: 0px 1px 3px 1px rgba(0, 0, 0, 0.15);\n",
              "      filter: drop-shadow(0px 1px 2px rgba(0, 0, 0, 0.3));\n",
              "      fill: #FFFFFF;\n",
              "    }\n",
              "  </style>\n",
              "\n",
              "      <script>\n",
              "        const buttonEl =\n",
              "          document.querySelector('#df-cc2872b1-d33b-44de-b482-4c920cb47226 button.colab-df-convert');\n",
              "        buttonEl.style.display =\n",
              "          google.colab.kernel.accessAllowed ? 'block' : 'none';\n",
              "\n",
              "        async function convertToInteractive(key) {\n",
              "          const element = document.querySelector('#df-cc2872b1-d33b-44de-b482-4c920cb47226');\n",
              "          const dataTable =\n",
              "            await google.colab.kernel.invokeFunction('convertToInteractive',\n",
              "                                                     [key], {});\n",
              "          if (!dataTable) return;\n",
              "\n",
              "          const docLinkHtml = 'Like what you see? Visit the ' +\n",
              "            '<a target=\"_blank\" href=https://colab.research.google.com/notebooks/data_table.ipynb>data table notebook</a>'\n",
              "            + ' to learn more about interactive tables.';\n",
              "          element.innerHTML = '';\n",
              "          dataTable['output_type'] = 'display_data';\n",
              "          await google.colab.output.renderOutput(dataTable, element);\n",
              "          const docLink = document.createElement('div');\n",
              "          docLink.innerHTML = docLinkHtml;\n",
              "          element.appendChild(docLink);\n",
              "        }\n",
              "      </script>\n",
              "    </div>\n",
              "  </div>\n",
              "  "
            ]
          },
          "metadata": {},
          "execution_count": 8
        }
      ]
    },
    {
      "cell_type": "code",
      "source": [
        "#train / test set\n",
        "from sklearn.model_selection import train_test_split\n",
        "\n",
        "train_df, test_df = train_test_split(df, train_size=0.7, random_state=2023)"
      ],
      "metadata": {
        "id": "TNKE5-BFsoj7"
      },
      "execution_count": null,
      "outputs": []
    },
    {
      "cell_type": "code",
      "source": [
        "print(len(train_df))\n",
        "print(len(test_df))"
      ],
      "metadata": {
        "colab": {
          "base_uri": "https://localhost:8080/"
        },
        "id": "5RmRXxbhwBnJ",
        "outputId": "62e12f8a-4843-41fa-a6ac-ec6324a26e84"
      },
      "execution_count": null,
      "outputs": [
        {
          "output_type": "stream",
          "name": "stdout",
          "text": [
            "105\n",
            "45\n"
          ]
        }
      ]
    },
    {
      "cell_type": "code",
      "source": [
        "train_target = train_df['target']\n",
        "test_target = test_df['target']\n",
        "train_data = train_df.drop('target', axis=1)\n",
        "test_data = test_df.drop('target', axis=1)"
      ],
      "metadata": {
        "id": "5eHBTwXvwC_a"
      },
      "execution_count": null,
      "outputs": []
    },
    {
      "cell_type": "markdown",
      "source": [
        "###기본 KNN"
      ],
      "metadata": {
        "id": "BShp1cry9wcu"
      }
    },
    {
      "cell_type": "code",
      "source": [
        "#knn 시작\n",
        "from sklearn.neighbors import KNeighborsClassifier\n",
        "from sklearn.model_selection import GridSearchCV\n",
        "\n",
        "knn = KNeighborsClassifier()"
      ],
      "metadata": {
        "id": "8MelJD4D0G6s"
      },
      "execution_count": null,
      "outputs": []
    },
    {
      "cell_type": "code",
      "source": [
        "#그리드서치를 위한 파라미터 설정\n",
        "params_1 = {\n",
        "    \"n_neighbors\": [i for i in range(1, 20, 2)],\n",
        "    \"p\": [1, 2], #1은 맨하탄, 2는 유클리드\n",
        "    \"weights\": ['uniform']\n",
        "}"
      ],
      "metadata": {
        "id": "bLyzlFNr1zsF"
      },
      "execution_count": null,
      "outputs": []
    },
    {
      "cell_type": "code",
      "source": [
        "params_1"
      ],
      "metadata": {
        "colab": {
          "base_uri": "https://localhost:8080/"
        },
        "id": "oUQArxBV2TaK",
        "outputId": "affc41ec-e000-41f3-9dc5-f0d3f95364ee"
      },
      "execution_count": null,
      "outputs": [
        {
          "output_type": "execute_result",
          "data": {
            "text/plain": [
              "{'n_neighbors': [1, 3, 5, 7, 9, 11, 13, 15, 17, 19],\n",
              " 'p': [1, 2],\n",
              " 'weights': ['uniform']}"
            ]
          },
          "metadata": {},
          "execution_count": 29
        }
      ]
    },
    {
      "cell_type": "code",
      "source": [
        "grid_cv = GridSearchCV(knn, param_grid = params_1, cv = 3)"
      ],
      "metadata": {
        "id": "y-WezdR62Yl3"
      },
      "execution_count": null,
      "outputs": []
    },
    {
      "cell_type": "code",
      "source": [
        "grid_cv.fit(train_data, train_target)"
      ],
      "metadata": {
        "colab": {
          "base_uri": "https://localhost:8080/"
        },
        "id": "BS6TSY-73teq",
        "outputId": "21d1cf40-183e-41e6-ae49-84c52442347d"
      },
      "execution_count": null,
      "outputs": [
        {
          "output_type": "execute_result",
          "data": {
            "text/plain": [
              "GridSearchCV(cv=3, estimator=KNeighborsClassifier(),\n",
              "             param_grid={'n_neighbors': [1, 3, 5, 7, 9, 11, 13, 15, 17, 19],\n",
              "                         'p': [1, 2], 'weights': ['uniform']})"
            ]
          },
          "metadata": {},
          "execution_count": 31
        }
      ]
    },
    {
      "cell_type": "code",
      "source": [
        "grid_cv.best_params_"
      ],
      "metadata": {
        "colab": {
          "base_uri": "https://localhost:8080/"
        },
        "id": "1Ag6WJye3xnl",
        "outputId": "41a66504-4f90-431b-934a-70c35777e5b6"
      },
      "execution_count": null,
      "outputs": [
        {
          "output_type": "execute_result",
          "data": {
            "text/plain": [
              "{'n_neighbors': 7, 'p': 1, 'weights': 'uniform'}"
            ]
          },
          "metadata": {},
          "execution_count": 32
        }
      ]
    },
    {
      "cell_type": "code",
      "source": [
        "knn_1 = KNeighborsClassifier(n_neighbors = 7, p = 1, weights = 'uniform')\n",
        "knn_1.fit(train_data, train_target)"
      ],
      "metadata": {
        "colab": {
          "base_uri": "https://localhost:8080/"
        },
        "id": "9tItvw-e36FP",
        "outputId": "5c2584e2-71d9-4520-c10f-08626e6f281d"
      },
      "execution_count": null,
      "outputs": [
        {
          "output_type": "execute_result",
          "data": {
            "text/plain": [
              "KNeighborsClassifier(n_neighbors=7, p=1)"
            ]
          },
          "metadata": {},
          "execution_count": 33
        }
      ]
    },
    {
      "cell_type": "code",
      "source": [
        "#예측 진행\n",
        "test_pred = knn_1.predict(test_data)"
      ],
      "metadata": {
        "id": "IoGEPcaG5TfV"
      },
      "execution_count": null,
      "outputs": []
    },
    {
      "cell_type": "code",
      "source": [
        "from sklearn.metrics import accuracy_score\n",
        "from sklearn.metrics import confusion_matrix\n",
        "\n",
        "print(\"test_data accuracy : \", accuracy_score(test_target, test_pred))\n",
        "print(\"* confusion matrix *\")\n",
        "\n",
        "cm = confusion_matrix(test_target, test_pred)\n",
        "cm_ = pd.DataFrame(cm).rename(index={0:'target(0)', 1:'target(1)', 2:'target(2)'}, columns={0:'pred(0)', 1:'pred(1)', 2:'pred(2)'})\n",
        "print(cm_)"
      ],
      "metadata": {
        "colab": {
          "base_uri": "https://localhost:8080/"
        },
        "id": "mVQTvsw659nc",
        "outputId": "bdb45cef-4d3a-4516-e63f-dfbb0c1846ee"
      },
      "execution_count": null,
      "outputs": [
        {
          "output_type": "stream",
          "name": "stdout",
          "text": [
            "test_data accuracy :  0.9777777777777777\n",
            "* confusion matrix *\n",
            "           pred(0)  pred(1)  pred(2)\n",
            "target(0)       17        0        0\n",
            "target(1)        0       17        0\n",
            "target(2)        0        1       10\n"
          ]
        }
      ]
    },
    {
      "cell_type": "markdown",
      "source": [
        "###weighted KNN"
      ],
      "metadata": {
        "id": "eUlgyNJD90bP"
      }
    },
    {
      "cell_type": "code",
      "source": [
        "#가중치를 부여하는 경우 파라미터 조정 (그리드서치)\n",
        "params_2 = {\n",
        "    \"n_neighbors\": [i for i in range(1, 20, 2)],\n",
        "    \"p\": [1, 2], #1은 맨하탄, 2는 유클리드\n",
        "    \"weights\": ['distance']\n",
        "}"
      ],
      "metadata": {
        "id": "ic28HgWx7eHW"
      },
      "execution_count": null,
      "outputs": []
    },
    {
      "cell_type": "code",
      "source": [
        "grid_cv = GridSearchCV(knn, param_grid = params_2, cv = 3)"
      ],
      "metadata": {
        "id": "XVSwpfjW8iAz"
      },
      "execution_count": null,
      "outputs": []
    },
    {
      "cell_type": "code",
      "source": [
        "grid_cv.fit(train_data, train_target)\n",
        "grid_cv.best_params_"
      ],
      "metadata": {
        "colab": {
          "base_uri": "https://localhost:8080/"
        },
        "id": "sEs8Q6ZW8rFa",
        "outputId": "29689be1-5081-49d3-8f3a-eb7faed33b15"
      },
      "execution_count": null,
      "outputs": [
        {
          "output_type": "execute_result",
          "data": {
            "text/plain": [
              "{'n_neighbors': 7, 'p': 2, 'weights': 'distance'}"
            ]
          },
          "metadata": {},
          "execution_count": 39
        }
      ]
    },
    {
      "cell_type": "code",
      "source": [
        "knn_2 = KNeighborsClassifier(n_neighbors = 7, p = 2, weights = 'distance')\n",
        "knn_2.fit(train_data, train_target)"
      ],
      "metadata": {
        "colab": {
          "base_uri": "https://localhost:8080/"
        },
        "id": "aTk3mMft8tfx",
        "outputId": "852449ed-7444-4d4b-9015-af11ec062e13"
      },
      "execution_count": null,
      "outputs": [
        {
          "output_type": "execute_result",
          "data": {
            "text/plain": [
              "KNeighborsClassifier(n_neighbors=7, weights='distance')"
            ]
          },
          "metadata": {},
          "execution_count": 40
        }
      ]
    },
    {
      "cell_type": "code",
      "source": [
        "#예측 진행\n",
        "test_pred = knn_2.predict(test_data)"
      ],
      "metadata": {
        "id": "3DEXfmDz89uV"
      },
      "execution_count": null,
      "outputs": []
    },
    {
      "cell_type": "code",
      "source": [
        "print(\"test_data accuracy : \", accuracy_score(test_target, test_pred))\n",
        "print(\"* confusion matrix *\")\n",
        "\n",
        "cm = confusion_matrix(test_target, test_pred)\n",
        "cm_ = pd.DataFrame(cm).rename(index={0:'target(0)', 1:'target(1)', 2:'target(2)'}, columns={0:'pred(0)', 1:'pred(1)', 2:'pred(2)'})\n",
        "print(cm_)"
      ],
      "metadata": {
        "colab": {
          "base_uri": "https://localhost:8080/"
        },
        "id": "a4MMHls09Aqg",
        "outputId": "cae6ac25-bf8e-41dd-8974-e65edf2f9ba5"
      },
      "execution_count": null,
      "outputs": [
        {
          "output_type": "stream",
          "name": "stdout",
          "text": [
            "test_data accuracy :  1.0\n",
            "* confusion matrix *\n",
            "           pred(0)  pred(1)  pred(2)\n",
            "target(0)       17        0        0\n",
            "target(1)        0       17        0\n",
            "target(2)        0        0       11\n"
          ]
        }
      ]
    },
    {
      "cell_type": "markdown",
      "source": [
        "###Scaling"
      ],
      "metadata": {
        "id": "sC_f02U294_5"
      }
    },
    {
      "cell_type": "code",
      "source": [
        "#변수 스케일링을 사용하는 경우\n",
        "from sklearn.preprocessing import StandardScaler\n",
        "scaler = StandardScaler()"
      ],
      "metadata": {
        "id": "q1pIw8lD9EzH"
      },
      "execution_count": null,
      "outputs": []
    },
    {
      "cell_type": "code",
      "source": [
        "#train과 test 모두 스케일링 진행\n",
        "scaler.fit(train_data)\n",
        "\n",
        "scaled_train_data = scaler.transform(train_data)\n",
        "scaled_test_data = scaler.transform(test_data)"
      ],
      "metadata": {
        "id": "DjH6GihI9mQd"
      },
      "execution_count": null,
      "outputs": []
    },
    {
      "cell_type": "code",
      "source": [
        "params_3 = {\n",
        "    \"n_neighbors\": [i for i in range(1, 20, 2)],\n",
        "    \"p\": [1, 2], #1은 맨하탄, 2는 유클리드\n",
        "    \"weights\": ['uniform','distance']\n",
        "}"
      ],
      "metadata": {
        "id": "8UatXcko-WJW"
      },
      "execution_count": null,
      "outputs": []
    },
    {
      "cell_type": "code",
      "source": [
        "params_3"
      ],
      "metadata": {
        "colab": {
          "base_uri": "https://localhost:8080/"
        },
        "id": "jpIr9YEm-05U",
        "outputId": "9de1b0cf-7472-4ef0-abd3-75104094e17d"
      },
      "execution_count": null,
      "outputs": [
        {
          "output_type": "execute_result",
          "data": {
            "text/plain": [
              "{'n_neighbors': [1, 3, 5, 7, 9, 11, 13, 15, 17, 19],\n",
              " 'p': [1, 2],\n",
              " 'weights': ['uniform', 'distance']}"
            ]
          },
          "metadata": {},
          "execution_count": 47
        }
      ]
    },
    {
      "cell_type": "code",
      "source": [
        "grid_cv = GridSearchCV(knn, param_grid = params_3, cv = 3)\n",
        "grid_cv.fit(scaled_train_data, train_target)\n",
        "grid_cv.best_params_"
      ],
      "metadata": {
        "colab": {
          "base_uri": "https://localhost:8080/"
        },
        "id": "jiZw5koF-2v7",
        "outputId": "297baf6d-a8e1-4f99-c523-48c06d4a6837"
      },
      "execution_count": null,
      "outputs": [
        {
          "output_type": "execute_result",
          "data": {
            "text/plain": [
              "{'n_neighbors': 5, 'p': 2, 'weights': 'distance'}"
            ]
          },
          "metadata": {},
          "execution_count": 48
        }
      ]
    },
    {
      "cell_type": "code",
      "source": [
        "knn_3 = KNeighborsClassifier(n_neighbors = 5, p = 2, weights = 'distance')\n",
        "knn_3.fit(scaled_train_data, train_target)"
      ],
      "metadata": {
        "colab": {
          "base_uri": "https://localhost:8080/"
        },
        "id": "ZyOxvfVR_Mfd",
        "outputId": "73da7674-b218-4ad7-91e2-95e1f7f8c100"
      },
      "execution_count": null,
      "outputs": [
        {
          "output_type": "execute_result",
          "data": {
            "text/plain": [
              "KNeighborsClassifier(weights='distance')"
            ]
          },
          "metadata": {},
          "execution_count": 49
        }
      ]
    },
    {
      "cell_type": "code",
      "source": [
        "#예측 진행\n",
        "test_pred = knn_3.predict(scaled_test_data)"
      ],
      "metadata": {
        "id": "saT_55_V_Wgj"
      },
      "execution_count": null,
      "outputs": []
    },
    {
      "cell_type": "code",
      "source": [
        "print(\"test_data accuracy : \", accuracy_score(test_target, test_pred))\n",
        "print(\"* confusion matrix *\")\n",
        "\n",
        "cm = confusion_matrix(test_target, test_pred)\n",
        "cm_ = pd.DataFrame(cm).rename(index={0:'target(0)', 1:'target(1)', 2:'target(2)'}, columns={0:'pred(0)', 1:'pred(1)', 2:'pred(2)'})\n",
        "print(cm_)"
      ],
      "metadata": {
        "colab": {
          "base_uri": "https://localhost:8080/"
        },
        "outputId": "da002cc9-b43c-4c41-ff60-cb87f0f3c57c",
        "id": "JRCsBBzr_fR4"
      },
      "execution_count": null,
      "outputs": [
        {
          "output_type": "stream",
          "name": "stdout",
          "text": [
            "test_data accuracy :  0.9777777777777777\n",
            "* confusion matrix *\n",
            "           pred(0)  pred(1)  pred(2)\n",
            "target(0)       17        0        0\n",
            "target(1)        0       17        0\n",
            "target(2)        0        1       10\n"
          ]
        }
      ]
    },
    {
      "cell_type": "markdown",
      "source": [
        "###시각화 (2개 변수만 이용)\n",
        "* https://lovelydiary.tistory.com/372 참고"
      ],
      "metadata": {
        "id": "Os8WZFUA_uNv"
      }
    },
    {
      "cell_type": "code",
      "source": [
        "from matplotlib import pyplot as plt\n",
        "from matplotlib.colors import ListedColormap\n",
        "import seaborn as sns\n",
        "from sklearn import neighbors, datasets\n",
        "import numpy as np\n",
        " \n",
        "# K-최근접이웃 분류의 시각화를 좌표평면에 하기 위해서는 예측변수를 2개까지만 사용할 수 있음\n",
        "# sepal length (cm)와 sepal width (cm)의 값만 뽑아 2차 배열로 변환\n",
        "predictors = iris['feature_names']\n",
        "train_2 = np.array(train_data[predictors[0:2]])\n",
        "test_2 = np.array(test_data[predictors[0:2]])\n",
        "\n",
        "# 파라미터 설정\n",
        "params_4 = {\n",
        "    \"n_neighbors\": [i for i in range(1, 20, 2)],\n",
        "    \"p\": [1, 2], #1은 맨하탄, 2는 유클리드\n",
        "    \"weights\": ['uniform','distance']\n",
        "}\n",
        "\n",
        "grid_cv = GridSearchCV(knn, param_grid = params_4, cv = 3)\n",
        "grid_cv.fit(train_2, train_target)\n",
        "grid_cv.best_params_"
      ],
      "metadata": {
        "colab": {
          "base_uri": "https://localhost:8080/"
        },
        "id": "3G7JA3O3HYLT",
        "outputId": "2241543e-2681-4929-eb16-ef678900626e"
      },
      "execution_count": null,
      "outputs": [
        {
          "output_type": "execute_result",
          "data": {
            "text/plain": [
              "{'n_neighbors': 7, 'p': 2, 'weights': 'uniform'}"
            ]
          },
          "metadata": {},
          "execution_count": 72
        }
      ]
    },
    {
      "cell_type": "code",
      "source": [
        "# color map 설정\n",
        "cmap_light = ListedColormap(['orange', 'cyan','cornflowerblue'])\n",
        "cmap_bold = ['darkorange', 'c', 'darkblue']\n",
        " \n",
        "# 예측\n",
        "knn_4 = KNeighborsClassifier(n_neighbors = 7, p = 2, weights = 'uniform')\n",
        "knn_4.fit(train_2, train_target)\n",
        "\n",
        "test_pred = knn_4.predict(test_2)\n",
        "print(\"test_data accuracy : \", accuracy_score(test_target, test_pred))\n",
        " \n",
        "# 분류 경계를 색으로 구분하기 위한 작업\n",
        "h = .02  # step size in the mesh\n",
        "x_min, x_max = test_2[:, 0].min() - 1, test_2[:, 0].max() + 1\n",
        "y_min, y_max = test_2[:, 1].min() - 1, test_2[:, 1].max() + 1\n",
        "xx, yy = np.meshgrid(np.arange(x_min, x_max, h), np.arange(y_min, y_max, h))\n",
        "Z = knn_4.predict(np.c_[xx.ravel(), yy.ravel()])\n",
        "Z = Z.reshape(xx.shape)\n",
        " \n",
        "# 그래프 사이즈 설정\n",
        "plt.figure(figsize=(8, 6))\n",
        " \n",
        "# 분류 경계 별 색칠하기\n",
        "plt.contourf(xx, yy, Z, cmap=cmap_light)\n",
        " \n",
        "# 각 훈련값의 좌표들을 그린 산점도\n",
        "y = test_target\n",
        "sns.scatterplot(x=test_2[:, 0], y=test_2[:, 1], hue=iris.target_names[y], palette=cmap_bold, alpha=1.0, edgecolor=\"black\")\n",
        " \n",
        "plt.title(\"3-Class classification\")\n",
        "plt.xlabel(predictors[0])\n",
        "plt.ylabel(predictors[1])\n",
        " \n",
        "plt.show()"
      ],
      "metadata": {
        "colab": {
          "base_uri": "https://localhost:8080/",
          "height": 422
        },
        "id": "kA9OlXQa_gjD",
        "outputId": "99395e65-a6d9-4f8e-f4bd-4a0b30f90a23"
      },
      "execution_count": null,
      "outputs": [
        {
          "output_type": "stream",
          "name": "stdout",
          "text": [
            "test_data accuracy :  0.8444444444444444\n"
          ]
        },
        {
          "output_type": "display_data",
          "data": {
            "text/plain": [
              "<Figure size 576x432 with 1 Axes>"
            ],
            "image/png": "[encoded data removed]"
          },
          "metadata": {
            "needs_background": "light"
          }
        }
      ]
    },
    {
      "cell_type": "code",
      "source": [
        "#k의 개수 변화시키기기\n",
        "# 예측\n",
        "knn_4 = KNeighborsClassifier(n_neighbors = 1, p = 2, weights = 'uniform')\n",
        "knn_4.fit(train_2, train_target)\n",
        "\n",
        "test_pred = knn_4.predict(test_2)\n",
        "print(\"test_data accuracy : \", accuracy_score(test_target, test_pred))\n",
        " \n",
        "# 분류 경계를 색으로 구분하기 위한 작업\n",
        "h = .02  # step size in the mesh\n",
        "x_min, x_max = test_2[:, 0].min() - 1, test_2[:, 0].max() + 1\n",
        "y_min, y_max = test_2[:, 1].min() - 1, test_2[:, 1].max() + 1\n",
        "xx, yy = np.meshgrid(np.arange(x_min, x_max, h), np.arange(y_min, y_max, h))\n",
        "Z = knn_4.predict(np.c_[xx.ravel(), yy.ravel()])\n",
        "Z = Z.reshape(xx.shape)\n",
        " \n",
        "# 그래프 사이즈 설정\n",
        "plt.figure(figsize=(8, 6))\n",
        " \n",
        "# 분류 경계 별 색칠하기\n",
        "plt.contourf(xx, yy, Z, cmap=cmap_light)\n",
        " \n",
        "# 각 훈련값의 좌표들을 그린 산점도\n",
        "y = test_target\n",
        "sns.scatterplot(x=test_2[:, 0], y=test_2[:, 1], hue=iris.target_names[y], palette=cmap_bold, alpha=1.0, edgecolor=\"black\")\n",
        " \n",
        "plt.title(\"3-Class classification\")\n",
        "plt.xlabel(predictors[0])\n",
        "plt.ylabel(predictors[1])\n",
        " \n",
        "plt.show()"
      ],
      "metadata": {
        "colab": {
          "base_uri": "https://localhost:8080/",
          "height": 422
        },
        "id": "yAX13xWEBaoV",
        "outputId": "4cfdfaa2-840b-4d37-e2e5-b701e6ecee8b"
      },
      "execution_count": null,
      "outputs": [
        {
          "output_type": "stream",
          "name": "stdout",
          "text": [
            "test_data accuracy :  0.7111111111111111\n"
          ]
        },
        {
          "output_type": "display_data",
          "data": {
            "text/plain": [
              "<Figure size 576x432 with 1 Axes>"
            ],
            "image/png": "[encoded data removed]"
          },
          "metadata": {
            "needs_background": "light"
          }
        }
      ]
    },
    {
      "cell_type": "code",
      "source": [
        "#k의 값 변화시키기\n",
        "# 예측\n",
        "knn_4 = KNeighborsClassifier(n_neighbors = 19, p = 2, weights = 'uniform')\n",
        "knn_4.fit(train_2, train_target)\n",
        "\n",
        "test_pred = knn_4.predict(test_2)\n",
        "print(\"test_data accuracy : \", accuracy_score(test_target, test_pred))\n",
        " \n",
        "# 분류 경계를 색으로 구분하기 위한 작업\n",
        "h = .02  # step size in the mesh\n",
        "x_min, x_max = test_2[:, 0].min() - 1, test_2[:, 0].max() + 1\n",
        "y_min, y_max = test_2[:, 1].min() - 1, test_2[:, 1].max() + 1\n",
        "xx, yy = np.meshgrid(np.arange(x_min, x_max, h), np.arange(y_min, y_max, h))\n",
        "Z = knn_4.predict(np.c_[xx.ravel(), yy.ravel()])\n",
        "Z = Z.reshape(xx.shape)\n",
        " \n",
        "# 그래프 사이즈 설정\n",
        "plt.figure(figsize=(8, 6))\n",
        " \n",
        "# 분류 경계 별 색칠하기\n",
        "plt.contourf(xx, yy, Z, cmap=cmap_light)\n",
        " \n",
        "# 각 훈련값의 좌표들을 그린 산점도\n",
        "y = test_target\n",
        "sns.scatterplot(x=test_2[:, 0], y=test_2[:, 1], hue=iris.target_names[y], palette=cmap_bold, alpha=1.0, edgecolor=\"black\")\n",
        " \n",
        "plt.title(\"3-Class classification\")\n",
        "plt.xlabel(predictors[0])\n",
        "plt.ylabel(predictors[1])\n",
        " \n",
        "plt.show()"
      ],
      "metadata": {
        "colab": {
          "base_uri": "https://localhost:8080/",
          "height": 422
        },
        "id": "X5rHW6uBJmuw",
        "outputId": "68877783-416c-49d2-fbeb-64b259808772"
      },
      "execution_count": null,
      "outputs": [
        {
          "output_type": "stream",
          "name": "stdout",
          "text": [
            "test_data accuracy :  0.8222222222222222\n"
          ]
        },
        {
          "output_type": "display_data",
          "data": {
            "text/plain": [
              "<Figure size 576x432 with 1 Axes>"
            ],
            "image/png": "[encoded data removed]"
          },
          "metadata": {
            "needs_background": "light"
          }
        }
      ]
    },
    {
      "cell_type": "code",
      "source": [],
      "metadata": {
        "id": "O04CNo7pJuHy"
      },
      "execution_count": null,
      "outputs": []
    }
  ]
}