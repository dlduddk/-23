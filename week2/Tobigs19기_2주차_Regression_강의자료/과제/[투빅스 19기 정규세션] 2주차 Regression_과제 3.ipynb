{
 "cells": [
  {
   "cell_type": "markdown",
   "metadata": {
    "id": "fu39oBW0RVn5"
   },
   "source": [
    "# [과제 3] 로지스틱 회귀분석\n",
    "### - sklearn 패키지를 사용해 로지스틱 회귀분석을 진행해주세요.\n",
    "### - 성능지표를 계산하고 이에 대해 해석해주세요.\n",
    "### - 성능 개선을 시도해주세요. (어떠한 성능지표를 기준으로 개선을 시도했는지, 그 이유도 함께 적어주세요.)\n",
    "### - 주석으로 설명 및 근거 자세하게 달아주시면 감사하겠습니다. :)"
   ]
  },
  {
   "cell_type": "markdown",
   "metadata": {
    "id": "8rN2SWezRVn_"
   },
   "source": [
    "## Data "
   ]
  },
  {
   "cell_type": "markdown",
   "metadata": {
    "id": "Y7SYKNvQRVn_"
   },
   "source": [
    "출처 : https://www.kaggle.com/mlg-ulb/creditcardfraud\n",
    "\n",
    "\n",
    "* V1 ~ V28 : 비식별화 된 개인정보 \n",
    "* **Class** : Target 변수  \n",
    "  - 1 : fraudulent transactions (사기)\n",
    "  - 0 : otherwise "
   ]
  },
  {
   "cell_type": "code",
   "execution_count": 1,
   "metadata": {
    "id": "Uvjw2fTCRVoA"
   },
   "outputs": [],
   "source": [
    "import pandas as pd\n",
    "import numpy as np\n",
    "import seaborn as sns\n",
    "import matplotlib.pyplot as plt\n",
    "import warnings\n",
    "warnings.filterwarnings(action='ignore')"
   ]
  },
  {
   "cell_type": "code",
   "execution_count": 20,
   "metadata": {
    "id": "znQit70ZRVoA"
   },
   "outputs": [],
   "source": [
    "data = pd.read_csv(\"assignment3_creditcard.csv\")"
   ]
  },
  {
   "cell_type": "code",
   "execution_count": 21,
   "metadata": {
    "colab": {
     "base_uri": "https://localhost:8080/",
     "height": 220
    },
    "id": "v98OeXW5RVoB",
    "outputId": "42afeddc-07e6-4224-95ee-08b455f72475"
   },
   "outputs": [
    {
     "data": {
      "text/html": [
       "<div>\n",
       "<style scoped>\n",
       "    .dataframe tbody tr th:only-of-type {\n",
       "        vertical-align: middle;\n",
       "    }\n",
       "\n",
       "    .dataframe tbody tr th {\n",
       "        vertical-align: top;\n",
       "    }\n",
       "\n",
       "    .dataframe thead th {\n",
       "        text-align: right;\n",
       "    }\n",
       "</style>\n",
       "<table border=\"1\" class=\"dataframe\">\n",
       "  <thead>\n",
       "    <tr style=\"text-align: right;\">\n",
       "      <th></th>\n",
       "      <th>V1</th>\n",
       "      <th>V2</th>\n",
       "      <th>V3</th>\n",
       "      <th>V4</th>\n",
       "      <th>V5</th>\n",
       "      <th>V6</th>\n",
       "      <th>V7</th>\n",
       "      <th>V8</th>\n",
       "      <th>V9</th>\n",
       "      <th>V10</th>\n",
       "      <th>...</th>\n",
       "      <th>V20</th>\n",
       "      <th>V21</th>\n",
       "      <th>V22</th>\n",
       "      <th>V23</th>\n",
       "      <th>V24</th>\n",
       "      <th>V25</th>\n",
       "      <th>V26</th>\n",
       "      <th>V27</th>\n",
       "      <th>V28</th>\n",
       "      <th>Class</th>\n",
       "    </tr>\n",
       "  </thead>\n",
       "  <tbody>\n",
       "    <tr>\n",
       "      <th>0</th>\n",
       "      <td>-1.848212</td>\n",
       "      <td>2.384900</td>\n",
       "      <td>0.379573</td>\n",
       "      <td>1.048381</td>\n",
       "      <td>-0.845070</td>\n",
       "      <td>2.537837</td>\n",
       "      <td>-4.542983</td>\n",
       "      <td>-10.201458</td>\n",
       "      <td>-1.504967</td>\n",
       "      <td>-2.234167</td>\n",
       "      <td>...</td>\n",
       "      <td>2.585817</td>\n",
       "      <td>-5.291690</td>\n",
       "      <td>0.859364</td>\n",
       "      <td>0.423231</td>\n",
       "      <td>-0.506985</td>\n",
       "      <td>1.020052</td>\n",
       "      <td>-0.627751</td>\n",
       "      <td>-0.017753</td>\n",
       "      <td>0.280982</td>\n",
       "      <td>0</td>\n",
       "    </tr>\n",
       "    <tr>\n",
       "      <th>1</th>\n",
       "      <td>2.071805</td>\n",
       "      <td>-0.477943</td>\n",
       "      <td>-1.444444</td>\n",
       "      <td>-0.548657</td>\n",
       "      <td>0.010036</td>\n",
       "      <td>-0.582242</td>\n",
       "      <td>-0.042878</td>\n",
       "      <td>-0.247160</td>\n",
       "      <td>1.171923</td>\n",
       "      <td>-0.342382</td>\n",
       "      <td>...</td>\n",
       "      <td>-0.077306</td>\n",
       "      <td>0.042858</td>\n",
       "      <td>0.390125</td>\n",
       "      <td>0.041569</td>\n",
       "      <td>0.598427</td>\n",
       "      <td>0.098803</td>\n",
       "      <td>0.979686</td>\n",
       "      <td>-0.093244</td>\n",
       "      <td>-0.065615</td>\n",
       "      <td>0</td>\n",
       "    </tr>\n",
       "    <tr>\n",
       "      <th>2</th>\n",
       "      <td>-2.985294</td>\n",
       "      <td>-2.747472</td>\n",
       "      <td>1.194068</td>\n",
       "      <td>-0.003036</td>\n",
       "      <td>-1.151041</td>\n",
       "      <td>-0.263559</td>\n",
       "      <td>0.553500</td>\n",
       "      <td>0.635600</td>\n",
       "      <td>0.438545</td>\n",
       "      <td>-1.806488</td>\n",
       "      <td>...</td>\n",
       "      <td>1.345776</td>\n",
       "      <td>0.373760</td>\n",
       "      <td>-0.385777</td>\n",
       "      <td>1.197596</td>\n",
       "      <td>0.407229</td>\n",
       "      <td>0.008013</td>\n",
       "      <td>0.762362</td>\n",
       "      <td>-0.299024</td>\n",
       "      <td>-0.303929</td>\n",
       "      <td>0</td>\n",
       "    </tr>\n",
       "    <tr>\n",
       "      <th>3</th>\n",
       "      <td>-1.479452</td>\n",
       "      <td>1.542874</td>\n",
       "      <td>0.290895</td>\n",
       "      <td>0.838142</td>\n",
       "      <td>-0.529290</td>\n",
       "      <td>-0.717661</td>\n",
       "      <td>0.484516</td>\n",
       "      <td>0.545092</td>\n",
       "      <td>-0.780767</td>\n",
       "      <td>0.324804</td>\n",
       "      <td>...</td>\n",
       "      <td>0.038397</td>\n",
       "      <td>0.116771</td>\n",
       "      <td>0.405560</td>\n",
       "      <td>-0.116453</td>\n",
       "      <td>0.541275</td>\n",
       "      <td>-0.216665</td>\n",
       "      <td>-0.415578</td>\n",
       "      <td>0.027126</td>\n",
       "      <td>-0.150347</td>\n",
       "      <td>0</td>\n",
       "    </tr>\n",
       "    <tr>\n",
       "      <th>4</th>\n",
       "      <td>-0.281976</td>\n",
       "      <td>-0.309699</td>\n",
       "      <td>-2.162299</td>\n",
       "      <td>-0.851514</td>\n",
       "      <td>0.106167</td>\n",
       "      <td>-1.483888</td>\n",
       "      <td>1.930994</td>\n",
       "      <td>-0.843049</td>\n",
       "      <td>-1.249272</td>\n",
       "      <td>1.079608</td>\n",
       "      <td>...</td>\n",
       "      <td>-0.875516</td>\n",
       "      <td>-0.004199</td>\n",
       "      <td>1.015108</td>\n",
       "      <td>-0.026748</td>\n",
       "      <td>0.077115</td>\n",
       "      <td>-1.468822</td>\n",
       "      <td>0.751700</td>\n",
       "      <td>0.496732</td>\n",
       "      <td>0.331001</td>\n",
       "      <td>0</td>\n",
       "    </tr>\n",
       "  </tbody>\n",
       "</table>\n",
       "<p>5 rows × 29 columns</p>\n",
       "</div>"
      ],
      "text/plain": [
       "         V1        V2        V3        V4        V5        V6        V7  \\\n",
       "0 -1.848212  2.384900  0.379573  1.048381 -0.845070  2.537837 -4.542983   \n",
       "1  2.071805 -0.477943 -1.444444 -0.548657  0.010036 -0.582242 -0.042878   \n",
       "2 -2.985294 -2.747472  1.194068 -0.003036 -1.151041 -0.263559  0.553500   \n",
       "3 -1.479452  1.542874  0.290895  0.838142 -0.529290 -0.717661  0.484516   \n",
       "4 -0.281976 -0.309699 -2.162299 -0.851514  0.106167 -1.483888  1.930994   \n",
       "\n",
       "          V8        V9       V10  ...       V20       V21       V22       V23  \\\n",
       "0 -10.201458 -1.504967 -2.234167  ...  2.585817 -5.291690  0.859364  0.423231   \n",
       "1  -0.247160  1.171923 -0.342382  ... -0.077306  0.042858  0.390125  0.041569   \n",
       "2   0.635600  0.438545 -1.806488  ...  1.345776  0.373760 -0.385777  1.197596   \n",
       "3   0.545092 -0.780767  0.324804  ...  0.038397  0.116771  0.405560 -0.116453   \n",
       "4  -0.843049 -1.249272  1.079608  ... -0.875516 -0.004199  1.015108 -0.026748   \n",
       "\n",
       "        V24       V25       V26       V27       V28  Class  \n",
       "0 -0.506985  1.020052 -0.627751 -0.017753  0.280982      0  \n",
       "1  0.598427  0.098803  0.979686 -0.093244 -0.065615      0  \n",
       "2  0.407229  0.008013  0.762362 -0.299024 -0.303929      0  \n",
       "3  0.541275 -0.216665 -0.415578  0.027126 -0.150347      0  \n",
       "4  0.077115 -1.468822  0.751700  0.496732  0.331001      0  \n",
       "\n",
       "[5 rows x 29 columns]"
      ]
     },
     "execution_count": 21,
     "metadata": {},
     "output_type": "execute_result"
    }
   ],
   "source": [
    "data.head()"
   ]
  },
  {
   "cell_type": "code",
   "execution_count": 22,
   "metadata": {},
   "outputs": [
    {
     "data": {
      "text/html": [
       "<div>\n",
       "<style scoped>\n",
       "    .dataframe tbody tr th:only-of-type {\n",
       "        vertical-align: middle;\n",
       "    }\n",
       "\n",
       "    .dataframe tbody tr th {\n",
       "        vertical-align: top;\n",
       "    }\n",
       "\n",
       "    .dataframe thead th {\n",
       "        text-align: right;\n",
       "    }\n",
       "</style>\n",
       "<table border=\"1\" class=\"dataframe\">\n",
       "  <thead>\n",
       "    <tr style=\"text-align: right;\">\n",
       "      <th></th>\n",
       "      <th>Class</th>\n",
       "    </tr>\n",
       "  </thead>\n",
       "  <tbody>\n",
       "    <tr>\n",
       "      <th>0</th>\n",
       "      <td>0</td>\n",
       "    </tr>\n",
       "    <tr>\n",
       "      <th>1</th>\n",
       "      <td>0</td>\n",
       "    </tr>\n",
       "    <tr>\n",
       "      <th>2</th>\n",
       "      <td>0</td>\n",
       "    </tr>\n",
       "    <tr>\n",
       "      <th>3</th>\n",
       "      <td>0</td>\n",
       "    </tr>\n",
       "    <tr>\n",
       "      <th>4</th>\n",
       "      <td>0</td>\n",
       "    </tr>\n",
       "    <tr>\n",
       "      <th>...</th>\n",
       "      <td>...</td>\n",
       "    </tr>\n",
       "    <tr>\n",
       "      <th>28673</th>\n",
       "      <td>0</td>\n",
       "    </tr>\n",
       "    <tr>\n",
       "      <th>28674</th>\n",
       "      <td>0</td>\n",
       "    </tr>\n",
       "    <tr>\n",
       "      <th>28675</th>\n",
       "      <td>0</td>\n",
       "    </tr>\n",
       "    <tr>\n",
       "      <th>28676</th>\n",
       "      <td>0</td>\n",
       "    </tr>\n",
       "    <tr>\n",
       "      <th>28677</th>\n",
       "      <td>0</td>\n",
       "    </tr>\n",
       "  </tbody>\n",
       "</table>\n",
       "<p>28678 rows × 1 columns</p>\n",
       "</div>"
      ],
      "text/plain": [
       "       Class\n",
       "0          0\n",
       "1          0\n",
       "2          0\n",
       "3          0\n",
       "4          0\n",
       "...      ...\n",
       "28673      0\n",
       "28674      0\n",
       "28675      0\n",
       "28676      0\n",
       "28677      0\n",
       "\n",
       "[28678 rows x 1 columns]"
      ]
     },
     "execution_count": 22,
     "metadata": {},
     "output_type": "execute_result"
    }
   ],
   "source": [
    "target = pd.DataFrame(data['Class'])\n",
    "target"
   ]
  },
  {
   "cell_type": "code",
   "execution_count": 23,
   "metadata": {},
   "outputs": [],
   "source": [
    "data.drop(columns='Class',inplace=True)"
   ]
  },
  {
   "cell_type": "code",
   "execution_count": 24,
   "metadata": {},
   "outputs": [
    {
     "data": {
      "text/plain": [
       "array([[-0.90218019,  1.44246214,  0.24207645, ..., -1.29584288,\n",
       "        -0.04709654,  0.9417547 ],\n",
       "       [ 1.02744235, -0.32892601, -0.7953942 , ...,  2.02637926,\n",
       "        -0.23721911, -0.22629752],\n",
       "       [-1.46190736, -1.73320058,  0.7053479 , ...,  1.57721728,\n",
       "        -0.7554671 , -1.02943014],\n",
       "       ...,\n",
       "       [ 1.02786291,  0.0843943 , -0.9747001 , ...,  0.36917223,\n",
       "        -0.15087861, -0.1030219 ],\n",
       "       [-0.33236542,  0.79733419,  0.8782926 , ...,  0.21096583,\n",
       "        -2.140772  , -1.05999649],\n",
       "       [ 1.09831537, -0.52987507, -0.90637085, ..., -0.61547609,\n",
       "        -0.13776702, -0.2565925 ]])"
      ]
     },
     "execution_count": 24,
     "metadata": {},
     "output_type": "execute_result"
    }
   ],
   "source": [
    "# feature 만 있는 상태로 정규화\n",
    "from sklearn.preprocessing import StandardScaler\n",
    "scaler = StandardScaler()\n",
    "scaler.fit_transform(data)"
   ]
  },
  {
   "cell_type": "code",
   "execution_count": 25,
   "metadata": {},
   "outputs": [],
   "source": [
    "data = pd.DataFrame(scaler.fit_transform(data), columns = data.columns)"
   ]
  },
  {
   "cell_type": "code",
   "execution_count": 26,
   "metadata": {},
   "outputs": [
    {
     "data": {
      "text/html": [
       "<div>\n",
       "<style scoped>\n",
       "    .dataframe tbody tr th:only-of-type {\n",
       "        vertical-align: middle;\n",
       "    }\n",
       "\n",
       "    .dataframe tbody tr th {\n",
       "        vertical-align: top;\n",
       "    }\n",
       "\n",
       "    .dataframe thead th {\n",
       "        text-align: right;\n",
       "    }\n",
       "</style>\n",
       "<table border=\"1\" class=\"dataframe\">\n",
       "  <thead>\n",
       "    <tr style=\"text-align: right;\">\n",
       "      <th></th>\n",
       "      <th>V1</th>\n",
       "      <th>V2</th>\n",
       "      <th>V3</th>\n",
       "      <th>V4</th>\n",
       "      <th>V5</th>\n",
       "      <th>V6</th>\n",
       "      <th>V7</th>\n",
       "      <th>V8</th>\n",
       "      <th>V9</th>\n",
       "      <th>V10</th>\n",
       "      <th>...</th>\n",
       "      <th>V19</th>\n",
       "      <th>V20</th>\n",
       "      <th>V21</th>\n",
       "      <th>V22</th>\n",
       "      <th>V23</th>\n",
       "      <th>V24</th>\n",
       "      <th>V25</th>\n",
       "      <th>V26</th>\n",
       "      <th>V27</th>\n",
       "      <th>V28</th>\n",
       "    </tr>\n",
       "  </thead>\n",
       "  <tbody>\n",
       "    <tr>\n",
       "      <th>0</th>\n",
       "      <td>-0.902180</td>\n",
       "      <td>1.442462</td>\n",
       "      <td>0.242076</td>\n",
       "      <td>0.682170</td>\n",
       "      <td>-0.545636</td>\n",
       "      <td>1.897453</td>\n",
       "      <td>-3.087657</td>\n",
       "      <td>-7.481774</td>\n",
       "      <td>-1.310739</td>\n",
       "      <td>-1.750813</td>\n",
       "      <td>...</td>\n",
       "      <td>0.184394</td>\n",
       "      <td>3.586292</td>\n",
       "      <td>-6.258702</td>\n",
       "      <td>1.163043</td>\n",
       "      <td>0.721013</td>\n",
       "      <td>-0.838813</td>\n",
       "      <td>1.973207</td>\n",
       "      <td>-1.295843</td>\n",
       "      <td>-0.047097</td>\n",
       "      <td>0.941755</td>\n",
       "    </tr>\n",
       "    <tr>\n",
       "      <th>1</th>\n",
       "      <td>1.027442</td>\n",
       "      <td>-0.328926</td>\n",
       "      <td>-0.795394</td>\n",
       "      <td>-0.395393</td>\n",
       "      <td>0.029429</td>\n",
       "      <td>-0.432294</td>\n",
       "      <td>0.005620</td>\n",
       "      <td>-0.185605</td>\n",
       "      <td>1.049741</td>\n",
       "      <td>-0.240491</td>\n",
       "      <td>...</td>\n",
       "      <td>0.770828</td>\n",
       "      <td>-0.110982</td>\n",
       "      <td>0.038445</td>\n",
       "      <td>0.528470</td>\n",
       "      <td>0.078108</td>\n",
       "      <td>0.993348</td>\n",
       "      <td>0.194594</td>\n",
       "      <td>2.026379</td>\n",
       "      <td>-0.237219</td>\n",
       "      <td>-0.226298</td>\n",
       "    </tr>\n",
       "    <tr>\n",
       "      <th>2</th>\n",
       "      <td>-1.461907</td>\n",
       "      <td>-1.733201</td>\n",
       "      <td>0.705348</td>\n",
       "      <td>-0.027248</td>\n",
       "      <td>-0.751404</td>\n",
       "      <td>-0.194335</td>\n",
       "      <td>0.415558</td>\n",
       "      <td>0.461429</td>\n",
       "      <td>0.403048</td>\n",
       "      <td>-1.409372</td>\n",
       "      <td>...</td>\n",
       "      <td>-1.078858</td>\n",
       "      <td>1.864714</td>\n",
       "      <td>0.429058</td>\n",
       "      <td>-0.520817</td>\n",
       "      <td>2.025422</td>\n",
       "      <td>0.676446</td>\n",
       "      <td>0.019311</td>\n",
       "      <td>1.577217</td>\n",
       "      <td>-0.755467</td>\n",
       "      <td>-1.029430</td>\n",
       "    </tr>\n",
       "    <tr>\n",
       "      <th>3</th>\n",
       "      <td>-0.720659</td>\n",
       "      <td>0.921458</td>\n",
       "      <td>0.191638</td>\n",
       "      <td>0.540317</td>\n",
       "      <td>-0.333272</td>\n",
       "      <td>-0.533410</td>\n",
       "      <td>0.368140</td>\n",
       "      <td>0.395090</td>\n",
       "      <td>-0.672139</td>\n",
       "      <td>0.292162</td>\n",
       "      <td>...</td>\n",
       "      <td>0.793099</td>\n",
       "      <td>0.049651</td>\n",
       "      <td>0.125696</td>\n",
       "      <td>0.549344</td>\n",
       "      <td>-0.188079</td>\n",
       "      <td>0.898622</td>\n",
       "      <td>-0.414465</td>\n",
       "      <td>-0.857327</td>\n",
       "      <td>0.065929</td>\n",
       "      <td>-0.511850</td>\n",
       "    </tr>\n",
       "    <tr>\n",
       "      <th>4</th>\n",
       "      <td>-0.131203</td>\n",
       "      <td>-0.224824</td>\n",
       "      <td>-1.203698</td>\n",
       "      <td>-0.599739</td>\n",
       "      <td>0.094078</td>\n",
       "      <td>-1.105548</td>\n",
       "      <td>1.362418</td>\n",
       "      <td>-0.622372</td>\n",
       "      <td>-1.085267</td>\n",
       "      <td>0.894765</td>\n",
       "      <td>...</td>\n",
       "      <td>-0.651400</td>\n",
       "      <td>-1.219154</td>\n",
       "      <td>-0.017103</td>\n",
       "      <td>1.373663</td>\n",
       "      <td>-0.036971</td>\n",
       "      <td>0.129301</td>\n",
       "      <td>-2.831946</td>\n",
       "      <td>1.555181</td>\n",
       "      <td>1.248615</td>\n",
       "      <td>1.110322</td>\n",
       "    </tr>\n",
       "    <tr>\n",
       "      <th>...</th>\n",
       "      <td>...</td>\n",
       "      <td>...</td>\n",
       "      <td>...</td>\n",
       "      <td>...</td>\n",
       "      <td>...</td>\n",
       "      <td>...</td>\n",
       "      <td>...</td>\n",
       "      <td>...</td>\n",
       "      <td>...</td>\n",
       "      <td>...</td>\n",
       "      <td>...</td>\n",
       "      <td>...</td>\n",
       "      <td>...</td>\n",
       "      <td>...</td>\n",
       "      <td>...</td>\n",
       "      <td>...</td>\n",
       "      <td>...</td>\n",
       "      <td>...</td>\n",
       "      <td>...</td>\n",
       "      <td>...</td>\n",
       "      <td>...</td>\n",
       "    </tr>\n",
       "    <tr>\n",
       "      <th>28673</th>\n",
       "      <td>1.023255</td>\n",
       "      <td>-0.023908</td>\n",
       "      <td>-0.566583</td>\n",
       "      <td>0.251205</td>\n",
       "      <td>-0.024285</td>\n",
       "      <td>-0.892442</td>\n",
       "      <td>0.202475</td>\n",
       "      <td>-0.286709</td>\n",
       "      <td>0.376723</td>\n",
       "      <td>0.071062</td>\n",
       "      <td>...</td>\n",
       "      <td>0.156931</td>\n",
       "      <td>-0.239323</td>\n",
       "      <td>-0.341422</td>\n",
       "      <td>-0.845179</td>\n",
       "      <td>0.566116</td>\n",
       "      <td>0.117848</td>\n",
       "      <td>-0.517101</td>\n",
       "      <td>0.399455</td>\n",
       "      <td>-0.165871</td>\n",
       "      <td>-0.200830</td>\n",
       "    </tr>\n",
       "    <tr>\n",
       "      <th>28674</th>\n",
       "      <td>0.630217</td>\n",
       "      <td>-0.793406</td>\n",
       "      <td>0.924346</td>\n",
       "      <td>-0.163191</td>\n",
       "      <td>-1.294682</td>\n",
       "      <td>0.410528</td>\n",
       "      <td>-1.177492</td>\n",
       "      <td>0.340326</td>\n",
       "      <td>0.900087</td>\n",
       "      <td>0.251606</td>\n",
       "      <td>...</td>\n",
       "      <td>0.769189</td>\n",
       "      <td>-0.177753</td>\n",
       "      <td>0.158912</td>\n",
       "      <td>0.972702</td>\n",
       "      <td>-0.056755</td>\n",
       "      <td>0.173374</td>\n",
       "      <td>0.662386</td>\n",
       "      <td>-0.018687</td>\n",
       "      <td>0.223756</td>\n",
       "      <td>0.061716</td>\n",
       "    </tr>\n",
       "    <tr>\n",
       "      <th>28675</th>\n",
       "      <td>1.027863</td>\n",
       "      <td>0.084394</td>\n",
       "      <td>-0.974700</td>\n",
       "      <td>0.230460</td>\n",
       "      <td>0.397149</td>\n",
       "      <td>-0.572397</td>\n",
       "      <td>0.204807</td>\n",
       "      <td>-0.205689</td>\n",
       "      <td>0.352270</td>\n",
       "      <td>-0.290601</td>\n",
       "      <td>...</td>\n",
       "      <td>0.117016</td>\n",
       "      <td>-0.120511</td>\n",
       "      <td>-0.438509</td>\n",
       "      <td>-1.230805</td>\n",
       "      <td>0.520796</td>\n",
       "      <td>0.666969</td>\n",
       "      <td>-0.406308</td>\n",
       "      <td>0.369172</td>\n",
       "      <td>-0.150879</td>\n",
       "      <td>-0.103022</td>\n",
       "    </tr>\n",
       "    <tr>\n",
       "      <th>28676</th>\n",
       "      <td>-0.332365</td>\n",
       "      <td>0.797334</td>\n",
       "      <td>0.878293</td>\n",
       "      <td>1.357837</td>\n",
       "      <td>0.732640</td>\n",
       "      <td>0.508122</td>\n",
       "      <td>0.623108</td>\n",
       "      <td>-0.346918</td>\n",
       "      <td>-0.584673</td>\n",
       "      <td>1.218846</td>\n",
       "      <td>...</td>\n",
       "      <td>0.060428</td>\n",
       "      <td>0.039199</td>\n",
       "      <td>0.118811</td>\n",
       "      <td>0.613586</td>\n",
       "      <td>-0.590491</td>\n",
       "      <td>-1.276522</td>\n",
       "      <td>-0.688309</td>\n",
       "      <td>0.210966</td>\n",
       "      <td>-2.140772</td>\n",
       "      <td>-1.059996</td>\n",
       "    </tr>\n",
       "    <tr>\n",
       "      <th>28677</th>\n",
       "      <td>1.098315</td>\n",
       "      <td>-0.529875</td>\n",
       "      <td>-0.906371</td>\n",
       "      <td>-0.777389</td>\n",
       "      <td>-0.066633</td>\n",
       "      <td>-0.285113</td>\n",
       "      <td>-0.291152</td>\n",
       "      <td>-0.042402</td>\n",
       "      <td>-0.444799</td>\n",
       "      <td>0.822563</td>\n",
       "      <td>...</td>\n",
       "      <td>1.456024</td>\n",
       "      <td>-0.147357</td>\n",
       "      <td>0.028141</td>\n",
       "      <td>0.031081</td>\n",
       "      <td>0.337860</td>\n",
       "      <td>0.438380</td>\n",
       "      <td>-0.054341</td>\n",
       "      <td>-0.615476</td>\n",
       "      <td>-0.137767</td>\n",
       "      <td>-0.256593</td>\n",
       "    </tr>\n",
       "  </tbody>\n",
       "</table>\n",
       "<p>28678 rows × 28 columns</p>\n",
       "</div>"
      ],
      "text/plain": [
       "             V1        V2        V3        V4        V5        V6        V7  \\\n",
       "0     -0.902180  1.442462  0.242076  0.682170 -0.545636  1.897453 -3.087657   \n",
       "1      1.027442 -0.328926 -0.795394 -0.395393  0.029429 -0.432294  0.005620   \n",
       "2     -1.461907 -1.733201  0.705348 -0.027248 -0.751404 -0.194335  0.415558   \n",
       "3     -0.720659  0.921458  0.191638  0.540317 -0.333272 -0.533410  0.368140   \n",
       "4     -0.131203 -0.224824 -1.203698 -0.599739  0.094078 -1.105548  1.362418   \n",
       "...         ...       ...       ...       ...       ...       ...       ...   \n",
       "28673  1.023255 -0.023908 -0.566583  0.251205 -0.024285 -0.892442  0.202475   \n",
       "28674  0.630217 -0.793406  0.924346 -0.163191 -1.294682  0.410528 -1.177492   \n",
       "28675  1.027863  0.084394 -0.974700  0.230460  0.397149 -0.572397  0.204807   \n",
       "28676 -0.332365  0.797334  0.878293  1.357837  0.732640  0.508122  0.623108   \n",
       "28677  1.098315 -0.529875 -0.906371 -0.777389 -0.066633 -0.285113 -0.291152   \n",
       "\n",
       "             V8        V9       V10  ...       V19       V20       V21  \\\n",
       "0     -7.481774 -1.310739 -1.750813  ...  0.184394  3.586292 -6.258702   \n",
       "1     -0.185605  1.049741 -0.240491  ...  0.770828 -0.110982  0.038445   \n",
       "2      0.461429  0.403048 -1.409372  ... -1.078858  1.864714  0.429058   \n",
       "3      0.395090 -0.672139  0.292162  ...  0.793099  0.049651  0.125696   \n",
       "4     -0.622372 -1.085267  0.894765  ... -0.651400 -1.219154 -0.017103   \n",
       "...         ...       ...       ...  ...       ...       ...       ...   \n",
       "28673 -0.286709  0.376723  0.071062  ...  0.156931 -0.239323 -0.341422   \n",
       "28674  0.340326  0.900087  0.251606  ...  0.769189 -0.177753  0.158912   \n",
       "28675 -0.205689  0.352270 -0.290601  ...  0.117016 -0.120511 -0.438509   \n",
       "28676 -0.346918 -0.584673  1.218846  ...  0.060428  0.039199  0.118811   \n",
       "28677 -0.042402 -0.444799  0.822563  ...  1.456024 -0.147357  0.028141   \n",
       "\n",
       "            V22       V23       V24       V25       V26       V27       V28  \n",
       "0      1.163043  0.721013 -0.838813  1.973207 -1.295843 -0.047097  0.941755  \n",
       "1      0.528470  0.078108  0.993348  0.194594  2.026379 -0.237219 -0.226298  \n",
       "2     -0.520817  2.025422  0.676446  0.019311  1.577217 -0.755467 -1.029430  \n",
       "3      0.549344 -0.188079  0.898622 -0.414465 -0.857327  0.065929 -0.511850  \n",
       "4      1.373663 -0.036971  0.129301 -2.831946  1.555181  1.248615  1.110322  \n",
       "...         ...       ...       ...       ...       ...       ...       ...  \n",
       "28673 -0.845179  0.566116  0.117848 -0.517101  0.399455 -0.165871 -0.200830  \n",
       "28674  0.972702 -0.056755  0.173374  0.662386 -0.018687  0.223756  0.061716  \n",
       "28675 -1.230805  0.520796  0.666969 -0.406308  0.369172 -0.150879 -0.103022  \n",
       "28676  0.613586 -0.590491 -1.276522 -0.688309  0.210966 -2.140772 -1.059996  \n",
       "28677  0.031081  0.337860  0.438380 -0.054341 -0.615476 -0.137767 -0.256593  \n",
       "\n",
       "[28678 rows x 28 columns]"
      ]
     },
     "execution_count": 26,
     "metadata": {},
     "output_type": "execute_result"
    }
   ],
   "source": [
    "data"
   ]
  },
  {
   "cell_type": "code",
   "execution_count": 27,
   "metadata": {},
   "outputs": [],
   "source": [
    "from sklearn.linear_model import LogisticRegression\n",
    "from sklearn.model_selection import train_test_split\n",
    "# train, test 데이터셋 분리\n",
    "X_train, X_test, y_train, y_test = train_test_split(data, target, test_size=0.2, random_state = 11, stratify = target)"
   ]
  },
  {
   "cell_type": "code",
   "execution_count": 28,
   "metadata": {},
   "outputs": [
    {
     "data": {
      "text/plain": [
       "LogisticRegression()"
      ]
     },
     "execution_count": 28,
     "metadata": {},
     "output_type": "execute_result"
    }
   ],
   "source": [
    "# 로지스틱 리그레션\n",
    "model = LogisticRegression()\n",
    "model.fit(X_train,y_train)"
   ]
  },
  {
   "cell_type": "code",
   "execution_count": 30,
   "metadata": {},
   "outputs": [
    {
     "data": {
      "text/plain": [
       "array([0, 0, 0, ..., 0, 0, 0], dtype=int64)"
      ]
     },
     "execution_count": 30,
     "metadata": {},
     "output_type": "execute_result"
    }
   ],
   "source": [
    "#예측\n",
    "y_pred = model.predict(X_test) \n",
    "y_pred"
   ]
  },
  {
   "cell_type": "code",
   "execution_count": 37,
   "metadata": {},
   "outputs": [],
   "source": [
    "from sklearn.metrics import *\n",
    "#평가지표들"
   ]
  },
  {
   "cell_type": "code",
   "execution_count": 38,
   "metadata": {},
   "outputs": [
    {
     "data": {
      "text/plain": [
       "array([[5683,    4],\n",
       "       [   7,   42]], dtype=int64)"
      ]
     },
     "execution_count": 38,
     "metadata": {},
     "output_type": "execute_result"
    }
   ],
   "source": [
    "confusion_matrix(y_test, y_pred)"
   ]
  },
  {
   "cell_type": "markdown",
   "metadata": {},
   "source": [
    "### confusion matrix 결과 클래스 비율 차이 너무 큼"
   ]
  },
  {
   "cell_type": "code",
   "execution_count": 39,
   "metadata": {},
   "outputs": [
    {
     "data": {
      "text/plain": [
       "0.9130434782608695"
      ]
     },
     "execution_count": 39,
     "metadata": {},
     "output_type": "execute_result"
    }
   ],
   "source": [
    "precision_score(y_test, y_pred)"
   ]
  },
  {
   "cell_type": "code",
   "execution_count": 40,
   "metadata": {},
   "outputs": [
    {
     "data": {
      "text/plain": [
       "0.8571428571428571"
      ]
     },
     "execution_count": 40,
     "metadata": {},
     "output_type": "execute_result"
    }
   ],
   "source": [
    "recall_score(y_test, y_pred)"
   ]
  },
  {
   "cell_type": "code",
   "execution_count": 41,
   "metadata": {},
   "outputs": [
    {
     "data": {
      "text/plain": [
       "0.8842105263157894"
      ]
     },
     "execution_count": 41,
     "metadata": {},
     "output_type": "execute_result"
    }
   ],
   "source": [
    "f1_score(y_pred, y_test)"
   ]
  },
  {
   "cell_type": "markdown",
   "metadata": {},
   "source": [
    "### 오버 샘플링\n",
    "#### 이용한 이유 : 클래스 간의 비율 차이가 너무 커서 오버 샘플링을 통해 f1-score, recall, precision을 향상시켜보고자 함"
   ]
  },
  {
   "cell_type": "code",
   "execution_count": 44,
   "metadata": {},
   "outputs": [],
   "source": [
    "X = data\n",
    "y = target"
   ]
  },
  {
   "cell_type": "code",
   "execution_count": 47,
   "metadata": {},
   "outputs": [
    {
     "name": "stdout",
     "output_type": "stream",
     "text": [
      "Collecting imblearn\n",
      "  Downloading imblearn-0.0-py2.py3-none-any.whl (1.9 kB)\n",
      "Collecting imbalanced-learn\n",
      "  Downloading imbalanced_learn-0.10.1-py3-none-any.whl (226 kB)\n",
      "     -------------------------------------- 226.0/226.0 kB 7.0 MB/s eta 0:00:00\n",
      "Requirement already satisfied: scikit-learn>=1.0.2 in c:\\users\\lee\\anaconda3\\lib\\site-packages (from imbalanced-learn->imblearn) (1.0.2)\n",
      "Requirement already satisfied: numpy>=1.17.3 in c:\\users\\lee\\anaconda3\\lib\\site-packages (from imbalanced-learn->imblearn) (1.21.5)\n",
      "Requirement already satisfied: threadpoolctl>=2.0.0 in c:\\users\\lee\\anaconda3\\lib\\site-packages (from imbalanced-learn->imblearn) (2.2.0)\n",
      "Requirement already satisfied: scipy>=1.3.2 in c:\\users\\lee\\anaconda3\\lib\\site-packages (from imbalanced-learn->imblearn) (1.7.3)\n",
      "Collecting joblib>=1.1.1\n",
      "  Downloading joblib-1.2.0-py3-none-any.whl (297 kB)\n",
      "     -------------------------------------- 298.0/298.0 kB 9.3 MB/s eta 0:00:00\n",
      "Installing collected packages: joblib, imbalanced-learn, imblearn\n",
      "  Attempting uninstall: joblib\n",
      "    Found existing installation: joblib 1.1.0\n",
      "    Uninstalling joblib-1.1.0:\n",
      "      Successfully uninstalled joblib-1.1.0\n",
      "Successfully installed imbalanced-learn-0.10.1 imblearn-0.0 joblib-1.2.0\n"
     ]
    },
    {
     "name": "stderr",
     "output_type": "stream",
     "text": [
      "\n",
      "[notice] A new release of pip available: 22.3 -> 23.0\n",
      "[notice] To update, run: python.exe -m pip install --upgrade pip\n"
     ]
    }
   ],
   "source": [
    "! pip install imblearn"
   ]
  },
  {
   "cell_type": "code",
   "execution_count": 55,
   "metadata": {},
   "outputs": [],
   "source": [
    "# SMOTE 방식으로 오버 샘플링함\n",
    "import imblearn\n",
    "from imblearn.over_sampling import SMOTE\n",
    "X_resampled, y_resampled = SMOTE(random_state=0).fit_resample(X, y)\n",
    "X_resampled = pd.DataFrame(X_resampled)\n",
    "y_resampled = pd.DataFrame(y_resampled)"
   ]
  },
  {
   "cell_type": "code",
   "execution_count": 61,
   "metadata": {},
   "outputs": [
    {
     "data": {
      "text/plain": [
       "(             V1        V2        V3        V4        V5        V6        V7  \\\n",
       " 0     -0.902180  1.442462  0.242076  0.682170 -0.545636  1.897453 -3.087657   \n",
       " 1      1.027442 -0.328926 -0.795394 -0.395393  0.029429 -0.432294  0.005620   \n",
       " 2     -1.461907 -1.733201  0.705348 -0.027248 -0.751404 -0.194335  0.415558   \n",
       " 3     -0.720659  0.921458  0.191638  0.540317 -0.333272 -0.533410  0.368140   \n",
       " 4     -0.131203 -0.224824 -1.203698 -0.599739  0.094078 -1.105548  1.362418   \n",
       " ...         ...       ...       ...       ...       ...       ...       ...   \n",
       " 56859 -0.538488  1.934090 -3.696315  3.351348 -1.538580 -1.684775 -3.798950   \n",
       " 56860 -3.475956  1.991299 -5.228885  3.522013 -2.568718 -2.020284 -4.949708   \n",
       " 56861 -1.762500  1.441722 -2.664643  1.088216 -0.794260 -1.279955 -1.943718   \n",
       " 56862  0.135086  1.498990 -2.473874  2.871097 -0.391440 -1.055657 -1.969293   \n",
       " 56863 -0.839456  1.308949 -3.898164  3.524809 -1.748492 -1.599731 -3.510272   \n",
       " \n",
       "              V8        V9       V10  ...       V19       V20       V21  \\\n",
       " 0     -7.481774 -1.310739 -1.750813  ...  0.184394  3.586292 -6.258702   \n",
       " 1     -0.185605  1.049741 -0.240491  ...  0.770828 -0.110982  0.038445   \n",
       " 2      0.461429  0.403048 -1.409372  ... -1.078858  1.864714  0.429058   \n",
       " 3      0.395090 -0.672139  0.292162  ...  0.793099  0.049651  0.125696   \n",
       " 4     -0.622372 -1.085267  0.894765  ... -0.651400 -1.219154 -0.017103   \n",
       " ...         ...       ...       ...  ...       ...       ...       ...   \n",
       " 56859  0.959978 -3.804349 -6.466158  ...  1.174908  1.815527  1.310367   \n",
       " 56860  2.414612 -3.946076 -6.672091  ...  1.331318  0.657886  1.069332   \n",
       " 56861  0.860957 -1.514753 -3.844989  ...  1.493863  0.402348  0.968493   \n",
       " 56862  0.492589 -1.842473 -4.166910  ... -0.291291  0.753386  0.356004   \n",
       " 56863  0.899768 -3.837221 -6.583842  ...  1.052740  2.710315  1.536739   \n",
       " \n",
       "             V22       V23       V24       V25       V26       V27       V28  \n",
       " 0      1.163043  0.721013 -0.838813  1.973207 -1.295843 -0.047097  0.941755  \n",
       " 1      0.528470  0.078108  0.993348  0.194594  2.026379 -0.237219 -0.226298  \n",
       " 2     -0.520817  2.025422  0.676446  0.019311  1.577217 -0.755467 -1.029430  \n",
       " 3      0.549344 -0.188079  0.898622 -0.414465 -0.857327  0.065929 -0.511850  \n",
       " 4      1.373663 -0.036971  0.129301 -2.831946  1.555181  1.248615  1.110322  \n",
       " ...         ...       ...       ...       ...       ...       ...       ...  \n",
       " 56859 -0.767947 -0.662636 -0.663651  1.691619  2.391432  3.416978  2.506695  \n",
       " 56860 -0.516995 -0.073956 -0.623736  0.498707  1.790995  3.361900 -0.601513  \n",
       " 56861  0.859110 -0.486139 -0.742965 -0.259054  1.262658 -0.689329  0.314492  \n",
       " 56862 -1.086802 -0.200600 -1.135263  1.271913 -0.405490  2.134086  1.488228  \n",
       " 56863 -0.993839 -1.132525 -0.636735  1.467266  2.321670  3.266376  2.692405  \n",
       " \n",
       " [56864 rows x 28 columns],\n",
       "        Class\n",
       " 0          0\n",
       " 1          0\n",
       " 2          0\n",
       " 3          0\n",
       " 4          0\n",
       " ...      ...\n",
       " 56859      1\n",
       " 56860      1\n",
       " 56861      1\n",
       " 56862      1\n",
       " 56863      1\n",
       " \n",
       " [56864 rows x 1 columns])"
      ]
     },
     "execution_count": 61,
     "metadata": {},
     "output_type": "execute_result"
    }
   ],
   "source": [
    "X_resampled,y_resampled"
   ]
  },
  {
   "cell_type": "code",
   "execution_count": 62,
   "metadata": {},
   "outputs": [
    {
     "data": {
      "text/plain": [
       "array([[5532,  154],\n",
       "       [ 366, 5321]], dtype=int64)"
      ]
     },
     "execution_count": 62,
     "metadata": {},
     "output_type": "execute_result"
    }
   ],
   "source": [
    "# 앞의 절차와 동일함\n",
    "X_train, X_test, y_train, y_test = train_test_split(X_resampled, y_resampled, test_size=0.2, random_state = 11, stratify = y_resampled)\n",
    "model = LogisticRegression()\n",
    "model.fit(X_train,y_train)\n",
    "y_pred = model.predict(X_test) \n",
    "\n",
    "confusion_matrix(y_test, y_pred)"
   ]
  },
  {
   "cell_type": "code",
   "execution_count": 63,
   "metadata": {},
   "outputs": [
    {
     "data": {
      "text/plain": [
       "0.9718721461187214"
      ]
     },
     "execution_count": 63,
     "metadata": {},
     "output_type": "execute_result"
    }
   ],
   "source": [
    "precision_score(y_test, y_pred)"
   ]
  },
  {
   "cell_type": "code",
   "execution_count": 64,
   "metadata": {},
   "outputs": [
    {
     "data": {
      "text/plain": [
       "0.9356426938631968"
      ]
     },
     "execution_count": 64,
     "metadata": {},
     "output_type": "execute_result"
    }
   ],
   "source": [
    "recall_score(y_test, y_pred)"
   ]
  },
  {
   "cell_type": "code",
   "execution_count": 65,
   "metadata": {},
   "outputs": [
    {
     "data": {
      "text/plain": [
       "0.9534133667801469"
      ]
     },
     "execution_count": 65,
     "metadata": {},
     "output_type": "execute_result"
    }
   ],
   "source": [
    "f1_score(y_pred, y_test)"
   ]
  },
  {
   "cell_type": "markdown",
   "metadata": {},
   "source": [
    "### 전반적으로 성능 향상됨을 확인할 수 있다"
   ]
  },
  {
   "cell_type": "code",
   "execution_count": null,
   "metadata": {},
   "outputs": [],
   "source": []
  }
 ],
 "metadata": {
  "colab": {
   "collapsed_sections": [],
   "name": "Regression_과제3",
   "provenance": []
  },
  "kernelspec": {
   "display_name": "Python 3 (ipykernel)",
   "language": "python",
   "name": "python3"
  },
  "language_info": {
   "codemirror_mode": {
    "name": "ipython",
    "version": 3
   },
   "file_extension": ".py",
   "mimetype": "text/x-python",
   "name": "python",
   "nbconvert_exporter": "python",
   "pygments_lexer": "ipython3",
   "version": "3.9.12"
  }
 },
 "nbformat": 4,
 "nbformat_minor": 1
}
